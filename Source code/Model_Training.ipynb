{
 "cells": [
  {
   "cell_type": "code",
   "execution_count": 1,
   "id": "431d381f",
   "metadata": {},
   "outputs": [],
   "source": [
    "import pandas as pd\n",
    "import numpy as np\n",
    "import matplotlib.pyplot as plt\n",
    "import seaborn as sns\n",
    "import joblib\n",
    "import time"
   ]
  },
  {
   "cell_type": "code",
   "execution_count": 2,
   "id": "ea9a9d5f",
   "metadata": {},
   "outputs": [],
   "source": [
    "from sklearn.model_selection import train_test_split, RandomizedSearchCV\n",
    "from sklearn.metrics import (\n",
    "    classification_report,\n",
    "    confusion_matrix,\n",
    "    accuracy_score,\n",
    "    roc_auc_score,\n",
    "    log_loss\n",
    ")"
   ]
  },
  {
   "cell_type": "code",
   "execution_count": 3,
   "id": "3532fe44",
   "metadata": {},
   "outputs": [],
   "source": [
    "from scipy.stats import uniform, randint\n",
    "from imblearn.combine import SMOTETomek\n",
    "from sklearn.ensemble import RandomForestClassifier"
   ]
  },
  {
   "cell_type": "code",
   "execution_count": 4,
   "id": "1fc9ade9",
   "metadata": {},
   "outputs": [],
   "source": [
    "# Load the dataset\n",
    "df = pd.read_csv(\"processed_file.csv\")"
   ]
  },
  {
   "cell_type": "code",
   "execution_count": 5,
   "id": "ea951eca",
   "metadata": {},
   "outputs": [
    {
     "name": "stdout",
     "output_type": "stream",
     "text": [
      "DataFrame Head:\n",
      "     amt  is_fraud  age   distance  amt_per_capita  is_far  \\\n",
      "0  54.60         0   44  54.958557        0.540594       0   \n",
      "1  13.59         0   44  97.146734        0.134554       0   \n",
      "2  79.04         0   44  23.143879        0.782574       0   \n",
      "3   3.92         0   44  14.213737        0.038812       0   \n",
      "4   3.07         0   44  60.874309        0.030396       0   \n",
      "\n",
      "   hour_bucket_encoded  category_grocery_pos  category_home  \\\n",
      "0                  0.0                   1.0            0.0   \n",
      "1                  0.0                   0.0            0.0   \n",
      "2                  0.0                   0.0            1.0   \n",
      "3                  0.0                   0.0            0.0   \n",
      "4                  0.0                   0.0            0.0   \n",
      "\n",
      "   category_shopping_pos  ...  category_entertainment  category_food_dining  \\\n",
      "0                    0.0  ...                     0.0                   0.0   \n",
      "1                    1.0  ...                     0.0                   0.0   \n",
      "2                    0.0  ...                     0.0                   0.0   \n",
      "3                    0.0  ...                     1.0                   0.0   \n",
      "4                    0.0  ...                     0.0                   0.0   \n",
      "\n",
      "   category_personal_care  category_health_fitness  category_misc_pos  \\\n",
      "0                     0.0                      0.0                0.0   \n",
      "1                     0.0                      0.0                0.0   \n",
      "2                     0.0                      0.0                0.0   \n",
      "3                     0.0                      0.0                0.0   \n",
      "4                     0.0                      0.0                1.0   \n",
      "\n",
      "   category_misc_net  category_grocery_net  category_travel  gender_M  \\\n",
      "0                0.0                   0.0              0.0       1.0   \n",
      "1                0.0                   0.0              0.0       1.0   \n",
      "2                0.0                   0.0              0.0       1.0   \n",
      "3                0.0                   0.0              0.0       1.0   \n",
      "4                0.0                   0.0              0.0       1.0   \n",
      "\n",
      "   city_freq  \n",
      "0       1527  \n",
      "1       1527  \n",
      "2       1527  \n",
      "3       1527  \n",
      "4       1527  \n",
      "\n",
      "[5 rows x 22 columns]\n"
     ]
    }
   ],
   "source": [
    "# Display the first few rows\n",
    "print(\"DataFrame Head:\")\n",
    "print(df.head())"
   ]
  },
  {
   "cell_type": "code",
   "execution_count": 6,
   "id": "69f61868",
   "metadata": {},
   "outputs": [
    {
     "name": "stdout",
     "output_type": "stream",
     "text": [
      "\n",
      "DataFrame Shape:\n",
      "(1296675, 22)\n"
     ]
    }
   ],
   "source": [
    "# Get the shape of the DataFrame\n",
    "print(\"\\nDataFrame Shape:\")\n",
    "print(df.shape)\n"
   ]
  },
  {
   "cell_type": "code",
   "execution_count": 7,
   "id": "c494def5",
   "metadata": {},
   "outputs": [
    {
     "name": "stdout",
     "output_type": "stream",
     "text": [
      "\n",
      "Class Distribution (is_fraud):\n",
      "is_fraud\n",
      "0    99.421135\n",
      "1     0.578865\n",
      "Name: proportion, dtype: float64\n"
     ]
    }
   ],
   "source": [
    "# Check the class distribution of the target variable\n",
    "print(\"\\nClass Distribution (is_fraud):\")\n",
    "print(df['is_fraud'].value_counts(normalize=True) * 100)"
   ]
  },
  {
   "cell_type": "code",
   "execution_count": 8,
   "id": "d278908a",
   "metadata": {},
   "outputs": [
    {
     "data": {
      "image/png": "[encoded data removed]",
      "text/plain": [
       "<Figure size 600x400 with 1 Axes>"
      ]
     },
     "metadata": {},
     "output_type": "display_data"
    }
   ],
   "source": [
    "plt.figure(figsize=(6, 4))\n",
    "sns.countplot(x='is_fraud', data=df)\n",
    "plt.title(\"Class Distribution Before SMOTETomek\")\n",
    "plt.show()"
   ]
  },
  {
   "cell_type": "code",
   "execution_count": 9,
   "id": "a182f434",
   "metadata": {},
   "outputs": [],
   "source": [
    "# Separate features (X) and target (y)\n",
    "X = df.drop('is_fraud', axis=1)\n",
    "y = df['is_fraud']"
   ]
  },
  {
   "cell_type": "code",
   "execution_count": 10,
   "id": "807241ab",
   "metadata": {},
   "outputs": [],
   "source": [
    "# Split the data into training and testing sets\n",
    "X_train, X_test, y_train, y_test = train_test_split(X, y, test_size=0.3, random_state=42, stratify=y)\n"
   ]
  },
  {
   "cell_type": "code",
   "execution_count": 11,
   "id": "ae00b166",
   "metadata": {},
   "outputs": [],
   "source": [
    "# Apply SMOTETomek to the training data to handle imbalance\n",
    "smote_tomek = SMOTETomek(random_state=42)\n",
    "X_train_resampled, y_train_resampled = smote_tomek.fit_resample(X_train, y_train)\n"
   ]
  },
  {
   "cell_type": "code",
   "execution_count": 13,
   "id": "a131f09f",
   "metadata": {},
   "outputs": [
    {
     "data": {
      "image/png": "[encoded data removed]",
      "text/plain": [
       "<Figure size 600x400 with 1 Axes>"
      ]
     },
     "metadata": {},
     "output_type": "display_data"
    }
   ],
   "source": [
    "plt.figure(figsize=(6, 4))\n",
    "sns.countplot(x=y_train_resampled)\n",
    "plt.title(\"Class Distribution After SMOTETomek\")\n",
    "plt.show()"
   ]
  },
  {
   "cell_type": "code",
   "execution_count": 18,
   "id": "e646757f",
   "metadata": {},
   "outputs": [],
   "source": [
    "# Define the parameter distributions for Random Forest's Randomized Search\n",
    "param_dist = {\n",
    "    'n_estimators': randint(50,200),      # Number of trees in the forest\n",
    "    'max_depth': randint(3, 10),             # Maximum tree depth\n",
    "    'min_samples_split': randint(2, 20),     # Minimum number of samples required to split an internal node\n",
    "    'min_samples_leaf': randint(1, 10),      # Minimum number of samples required to be at a leaf node\n",
    "    'bootstrap': [True, False],              # Whether bootstrap samples are used when building trees\n",
    "    'criterion': ['gini', 'entropy']         # Function to measure the quality of a split\n",
    "}"
   ]
  },
  {
   "cell_type": "code",
   "execution_count": 19,
   "id": "0f34b05b",
   "metadata": {},
   "outputs": [],
   "source": [
    "# Create a base Random Forest model\n",
    "rf_model = RandomForestClassifier(random_state=42, n_jobs=4)\n"
   ]
  },
  {
   "cell_type": "code",
   "execution_count": 20,
   "id": "83b2f457",
   "metadata": {},
   "outputs": [],
   "source": [
    "# Initialize RandomizedSearchCV\n",
    "random_search = RandomizedSearchCV(estimator=rf_model, param_distributions=param_dist,\n",
    "                                   n_iter=10, cv=3, n_jobs=4, verbose=2, scoring='f1', random_state=42)\n"
   ]
  },
  {
   "cell_type": "code",
   "execution_count": 22,
   "id": "bd2e2a8a",
   "metadata": {},
   "outputs": [
    {
     "name": "stdout",
     "output_type": "stream",
     "text": [
      "\n",
      "Starting Randomized Search...\n",
      "Fitting 3 folds for each of 10 candidates, totalling 30 fits\n",
      "Randomized Search completed in 2270.59 seconds.\n"
     ]
    }
   ],
   "source": [
    "# Fit the model on the resampled training data and measure the time\n",
    "print(\"\\nStarting Randomized Search...\")\n",
    "start_time = time.time()\n",
    "random_search.fit(X_train_resampled, y_train_resampled)\n",
    "end_time = time.time()\n",
    "time_taken = end_time - start_time\n",
    "print(f\"Randomized Search completed in {time_taken:.2f} seconds.\")\n"
   ]
  },
  {
   "cell_type": "code",
   "execution_count": 23,
   "id": "a75f4200",
   "metadata": {},
   "outputs": [
    {
     "name": "stdout",
     "output_type": "stream",
     "text": [
      "\n",
      "Best Parameters found by RandomizedSearchCV:\n",
      "{'bootstrap': False, 'criterion': 'gini', 'max_depth': 8, 'min_samples_leaf': 5, 'min_samples_split': 3, 'n_estimators': 137}\n"
     ]
    }
   ],
   "source": [
    "# Print the best parameters found\n",
    "print(\"\\nBest Parameters found by RandomizedSearchCV:\")\n",
    "print(random_search.best_params_)\n"
   ]
  },
  {
   "cell_type": "code",
   "execution_count": 24,
   "id": "8003956d",
   "metadata": {},
   "outputs": [],
   "source": [
    "# Make predictions on the test set using the best model from the search\n",
    "y_pred = random_search.predict(X_test)\n",
    "y_pred_proba = random_search.predict_proba(X_test)[:, 1]"
   ]
  },
  {
   "cell_type": "code",
   "execution_count": 25,
   "id": "b7ed4c23",
   "metadata": {},
   "outputs": [
    {
     "name": "stdout",
     "output_type": "stream",
     "text": [
      "\n",
      "Classification Report:\n",
      "              precision    recall  f1-score   support\n",
      "\n",
      "           0       1.00      0.98      0.99    386751\n",
      "           1       0.23      0.84      0.36      2252\n",
      "\n",
      "    accuracy                           0.98    389003\n",
      "   macro avg       0.61      0.91      0.67    389003\n",
      "weighted avg       0.99      0.98      0.99    389003\n",
      "\n"
     ]
    }
   ],
   "source": [
    "# Print the classification report\n",
    "print(\"\\nClassification Report:\")\n",
    "print(classification_report(y_test, y_pred))"
   ]
  },
  {
   "cell_type": "code",
   "execution_count": 26,
   "id": "a7b21685",
   "metadata": {},
   "outputs": [],
   "source": [
    "# Calculate and print additional metrics\n",
    "accuracy = accuracy_score(y_test, y_pred)\n",
    "auc_score = roc_auc_score(y_test, y_pred_proba)\n",
    "logloss = log_loss(y_test, y_pred_proba)"
   ]
  },
  {
   "cell_type": "code",
   "execution_count": 27,
   "id": "7ea8064d",
   "metadata": {},
   "outputs": [
    {
     "name": "stdout",
     "output_type": "stream",
     "text": [
      "Accuracy: 0.9825\n",
      "AUC Score: 0.9801\n",
      "Log Loss: 0.1540\n"
     ]
    }
   ],
   "source": [
    "print(f\"Accuracy: {accuracy:.4f}\")\n",
    "print(f\"AUC Score: {auc_score:.4f}\")\n",
    "print(f\"Log Loss: {logloss:.4f}\")"
   ]
  },
  {
   "cell_type": "code",
   "execution_count": 28,
   "id": "27bcffe9",
   "metadata": {},
   "outputs": [
    {
     "data": {
      "image/png": "[encoded data removed]",
      "text/plain": [
       "<Figure size 800x600 with 1 Axes>"
      ]
     },
     "metadata": {},
     "output_type": "display_data"
    }
   ],
   "source": [
    "# Create and plot the confusion matrix\n",
    "cm = confusion_matrix(y_test, y_pred)\n",
    "plt.figure(figsize=(8, 6))\n",
    "sns.heatmap(cm, annot=True, fmt='d', cmap='Blues', cbar=False,\n",
    "            xticklabels=['Not Fraud (0)', 'Fraud (1)'],\n",
    "            yticklabels=['Not Fraud (0)', 'Fraud (1)'])\n",
    "plt.xlabel('Predicted Label')\n",
    "plt.ylabel('True Label')\n",
    "plt.title('Confusion Matrix for Fraud Detection')\n",
    "plt.show()"
   ]
  },
  {
   "cell_type": "code",
   "execution_count": 29,
   "id": "41a578fa",
   "metadata": {},
   "outputs": [
    {
     "name": "stdout",
     "output_type": "stream",
     "text": [
      "\n",
      "Model saved as Best_Fraud_Model_RandomForest.pkl\n"
     ]
    }
   ],
   "source": [
    "# Save the best model\n",
    "joblib.dump(random_search, 'Best_Fraud_Model_RandomForest.pkl')\n",
    "print(\"\\nModel saved as Best_Fraud_Model_RandomForest.pkl\")"
   ]
  },
  {
   "cell_type": "code",
   "execution_count": 30,
   "id": "94003050",
   "metadata": {},
   "outputs": [],
   "source": [
    "# Access the best-performing model from the search\n",
    "best_rf_model = random_search.best_estimator_"
   ]
  },
  {
   "cell_type": "code",
   "execution_count": 31,
   "id": "b5aa3f38",
   "metadata": {},
   "outputs": [
    {
     "name": "stdout",
     "output_type": "stream",
     "text": [
      "\n",
      "Top 10 Most Important Features:\n",
      "amt                        0.538866\n",
      "amt_per_capita             0.100529\n",
      "gender_M                   0.083014\n",
      "category_grocery_pos       0.064430\n",
      "city_freq                  0.033736\n",
      "category_entertainment     0.031907\n",
      "category_shopping_net      0.025486\n",
      "category_home              0.023095\n",
      "category_health_fitness    0.018843\n",
      "category_misc_pos          0.016116\n",
      "dtype: float64\n"
     ]
    }
   ],
   "source": [
    "# Get and print the top 10 most important features\n",
    "importances = best_rf_model.feature_importances_\n",
    "feature_names = X.columns\n",
    "feature_importance_series = pd.Series(importances, index=feature_names)\n",
    "sorted_importance = feature_importance_series.sort_values(ascending=False)\n",
    "print(\"\\nTop 10 Most Important Features:\")\n",
    "print(sorted_importance.head(10))"
   ]
  }
 ],
 "metadata": {
  "kernelspec": {
   "display_name": "Python 3",
   "language": "python",
   "name": "python3"
  },
  "language_info": {
   "codemirror_mode": {
    "name": "ipython",
    "version": 3
   },
   "file_extension": ".py",
   "mimetype": "text/x-python",
   "name": "python",
   "nbconvert_exporter": "python",
   "pygments_lexer": "ipython3",
   "version": "3.12.10"
  }
 },
 "nbformat": 4,
 "nbformat_minor": 5
}
